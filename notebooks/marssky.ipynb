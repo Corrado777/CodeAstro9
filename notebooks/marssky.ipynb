{
 "cells": [
  {
   "cell_type": "markdown",
   "metadata": {},
   "source": [
    "# Getting the sky on mars"
   ]
  },
  {
   "cell_type": "code",
   "execution_count": 8,
   "metadata": {},
   "outputs": [
    {
     "name": "stdout",
     "output_type": "stream",
     "text": [
      "2460036.0\n"
     ]
    },
    {
     "ename": "TypeError",
     "evalue": "Coordinate frame AltAz got unexpected keywords: ['lst']",
     "output_type": "error",
     "traceback": [
      "\u001b[0;31m---------------------------------------------------------------------------\u001b[0m",
      "\u001b[0;31mTypeError\u001b[0m                                 Traceback (most recent call last)",
      "Cell \u001b[0;32mIn[8], line 49\u001b[0m\n\u001b[1;32m     47\u001b[0m julian_date \u001b[38;5;241m=\u001b[39m get_julian_date(earth_time)\n\u001b[1;32m     48\u001b[0m \u001b[38;5;28mprint\u001b[39m(julian_date)\n\u001b[0;32m---> 49\u001b[0m get_mars_sky_coords(julian_date, mars_location_longitude\u001b[38;5;241m=\u001b[39m\u001b[38;5;241m0\u001b[39m, mars_location_latitude\u001b[38;5;241m=\u001b[39m\u001b[38;5;241m0\u001b[39m)\n",
      "Cell \u001b[0;32mIn[8], line 39\u001b[0m, in \u001b[0;36mget_mars_sky_coords\u001b[0;34m(julian_date, mars_location_longitude, mars_location_latitude)\u001b[0m\n\u001b[1;32m     37\u001b[0m mars_location \u001b[38;5;241m=\u001b[39m EarthLocation(lat\u001b[38;5;241m=\u001b[39mmars_location_latitude\u001b[38;5;241m*\u001b[39mu\u001b[38;5;241m.\u001b[39mdeg, lon\u001b[38;5;241m=\u001b[39mmars_location_longitude\u001b[38;5;241m*\u001b[39mu\u001b[38;5;241m.\u001b[39mdeg, height\u001b[38;5;241m=\u001b[39m\u001b[38;5;241m0\u001b[39m\u001b[38;5;241m*\u001b[39mu\u001b[38;5;241m.\u001b[39mm)\n\u001b[1;32m     38\u001b[0m \u001b[38;5;66;03m# Convert to AltAz frame at the given LST and location on Mars\u001b[39;00m\n\u001b[0;32m---> 39\u001b[0m altaz \u001b[38;5;241m=\u001b[39m AltAz(obstime\u001b[38;5;241m=\u001b[39mTime(julian_date, \u001b[38;5;28mformat\u001b[39m\u001b[38;5;241m=\u001b[39m\u001b[38;5;124m'\u001b[39m\u001b[38;5;124mjd\u001b[39m\u001b[38;5;124m'\u001b[39m), location\u001b[38;5;241m=\u001b[39mmars_location, lst\u001b[38;5;241m=\u001b[39mlst)\n\u001b[1;32m     40\u001b[0m \u001b[38;5;66;03m# Example: Get the sky position of Sirius\u001b[39;00m\n\u001b[1;32m     41\u001b[0m sirius \u001b[38;5;241m=\u001b[39m SkyCoord\u001b[38;5;241m.\u001b[39mfrom_name(\u001b[38;5;124m'\u001b[39m\u001b[38;5;124mSirius\u001b[39m\u001b[38;5;124m'\u001b[39m)\n",
      "File \u001b[0;32m/opt/anaconda3/envs/CodeAstro_Env/lib/python3.12/site-packages/astropy/coordinates/builtin_frames/altaz.py:126\u001b[0m, in \u001b[0;36mAltAz.__init__\u001b[0;34m(self, *args, **kwargs)\u001b[0m\n\u001b[1;32m    125\u001b[0m \u001b[38;5;28;01mdef\u001b[39;00m \u001b[38;5;21m__init__\u001b[39m(\u001b[38;5;28mself\u001b[39m, \u001b[38;5;241m*\u001b[39margs, \u001b[38;5;241m*\u001b[39m\u001b[38;5;241m*\u001b[39mkwargs):\n\u001b[0;32m--> 126\u001b[0m     \u001b[38;5;28msuper\u001b[39m()\u001b[38;5;241m.\u001b[39m\u001b[38;5;21m__init__\u001b[39m(\u001b[38;5;241m*\u001b[39margs, \u001b[38;5;241m*\u001b[39m\u001b[38;5;241m*\u001b[39mkwargs)\n",
      "File \u001b[0;32m/opt/anaconda3/envs/CodeAstro_Env/lib/python3.12/site-packages/astropy/coordinates/baseframe.py:340\u001b[0m, in \u001b[0;36mBaseCoordinateFrame.__init__\u001b[0;34m(self, copy, representation_type, differential_type, *args, **kwargs)\u001b[0m\n\u001b[1;32m    337\u001b[0m         \u001b[38;5;28mself\u001b[39m\u001b[38;5;241m.\u001b[39m_attr_names_with_defaults\u001b[38;5;241m.\u001b[39mappend(fnm)\n\u001b[1;32m    339\u001b[0m \u001b[38;5;28;01mif\u001b[39;00m kwargs:\n\u001b[0;32m--> 340\u001b[0m     \u001b[38;5;28;01mraise\u001b[39;00m \u001b[38;5;167;01mTypeError\u001b[39;00m(\n\u001b[1;32m    341\u001b[0m         \u001b[38;5;124mf\u001b[39m\u001b[38;5;124m\"\u001b[39m\u001b[38;5;124mCoordinate frame \u001b[39m\u001b[38;5;132;01m{\u001b[39;00m\u001b[38;5;28mself\u001b[39m\u001b[38;5;241m.\u001b[39m\u001b[38;5;18m__class__\u001b[39m\u001b[38;5;241m.\u001b[39m\u001b[38;5;18m__name__\u001b[39m\u001b[38;5;132;01m}\u001b[39;00m\u001b[38;5;124m got unexpected \u001b[39m\u001b[38;5;124m\"\u001b[39m\n\u001b[1;32m    342\u001b[0m         \u001b[38;5;124mf\u001b[39m\u001b[38;5;124m\"\u001b[39m\u001b[38;5;124mkeywords: \u001b[39m\u001b[38;5;132;01m{\u001b[39;00m\u001b[38;5;28mlist\u001b[39m(kwargs)\u001b[38;5;132;01m}\u001b[39;00m\u001b[38;5;124m\"\u001b[39m\n\u001b[1;32m    343\u001b[0m     )\n\u001b[1;32m    345\u001b[0m \u001b[38;5;66;03m# Determine the overall shape of the frame.\u001b[39;00m\n\u001b[1;32m    346\u001b[0m \u001b[38;5;28;01mtry\u001b[39;00m:\n",
      "\u001b[0;31mTypeError\u001b[0m: Coordinate frame AltAz got unexpected keywords: ['lst']"
     ]
    }
   ],
   "source": [
    "from astropy.time import Time\n",
    "from astropy.coordinates import SkyCoord, EarthLocation, AltAz, Longitude\n",
    "from astropy import units as u\n",
    "\n",
    "def get_julian_date(earth_time):\n",
    "    # Convert Earth time to Julian Date\n",
    "    earth_time_astropy = Time(earth_time, format='iso', scale='utc')\n",
    "    return earth_time_astropy.jd\n",
    "\n",
    "def get_mars_sidereal_time(julian_date, mars_longitude):\n",
    "    # Mars' sidereal period in days\n",
    "    mars_sidereal_period = 1.027491\n",
    "    \n",
    "    # Convert Julian Date to Astropy Time object\n",
    "    time = Time(julian_date, format='jd')\n",
    "    \n",
    "    # Calculate the fraction of a day since a known Mars LST epoch (JD)\n",
    "    jd_since_epoch = time.jd - 2451549.5\n",
    "    mars_days_since_epoch = jd_since_epoch / mars_sidereal_period\n",
    "    \n",
    "    # Calculate LST in hours\n",
    "    lst_hours = (mars_days_since_epoch * 24) % 24\n",
    "    \n",
    "    # Adjust for the observer's longitude (in degrees)\n",
    "    longitude_factor = mars_longitude / 360.0\n",
    "    lst_adjusted_hours = (lst_hours + 24 * longitude_factor) % 24\n",
    "    \n",
    "    # Convert to Astropy Longitude for compatibility with AltAz\n",
    "    lst = Longitude(lst_adjusted_hours * u.hourangle)\n",
    "    \n",
    "    return lst\n",
    "\n",
    "def get_mars_sky_coords(julian_date, mars_location_longitude, mars_location_latitude):\n",
    "    # Calculate Local Sidereal Time (LST) for the given Mars location and time\n",
    "    lst = get_mars_sidereal_time(julian_date, mars_location_longitude)\n",
    "    \n",
    "    # Assuming you have the longitude and latitude for your observation point on Mars\n",
    "    mars_location = EarthLocation(lat=mars_location_latitude*u.deg, lon=mars_location_longitude*u.deg, height=0*u.m)\n",
    "    \n",
    "    # Convert to AltAz frame at the given LST and location on Mars\n",
    "    altaz = AltAz(obstime=Time(julian_date, format='jd'), location=mars_location)\n",
    "    \n",
    "    # Example: Get the sky position of Sirius\n",
    "    sirius = SkyCoord.from_name('Sirius')\n",
    "    sirius_altaz = sirius.transform_to(altaz)\n",
    "    \n",
    "    print(f\"Sirius's position on Mars at LST {lst}: Altitude {sirius_altaz.alt}, Azimuth {sirius_altaz.az}\")\n",
    "\n",
    "# Example usage\n",
    "earth_time = \"2023-04-01 12:00:00\"\n",
    "julian_date = get_julian_date(earth_time)\n",
    "print(julian_date)\n",
    "get_mars_sky_coords(julian_date, mars_location_longitude=0, mars_location_latitude=0)"
   ]
  }
 ],
 "metadata": {
  "kernelspec": {
   "display_name": "CodeAstro_Env",
   "language": "python",
   "name": "python3"
  },
  "language_info": {
   "codemirror_mode": {
    "name": "ipython",
    "version": 3
   },
   "file_extension": ".py",
   "mimetype": "text/x-python",
   "name": "python",
   "nbconvert_exporter": "python",
   "pygments_lexer": "ipython3",
   "version": "3.12.4"
  }
 },
 "nbformat": 4,
 "nbformat_minor": 2
}
