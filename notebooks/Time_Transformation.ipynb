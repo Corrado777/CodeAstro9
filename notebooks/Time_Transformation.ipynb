{
  "nbformat": 4,
  "nbformat_minor": 0,
  "metadata": {
    "colab": {
      "provenance": [],
      "authorship_tag": "ABX9TyO1QH0JaOo4pRn7zuOS23K6",
      "include_colab_link": true
    },
    "kernelspec": {
      "name": "python3",
      "display_name": "Python 3"
    },
    "language_info": {
      "name": "python"
    }
  },
  "cells": [
    {
      "cell_type": "markdown",
      "metadata": {
        "id": "view-in-github",
        "colab_type": "text"
      },
      "source": [
        "<a href=\"https://colab.research.google.com/github/Corrado777/CodeAstro9/blob/develop/Time_Transformation.ipynb\" target=\"_parent\"><img src=\"https://colab.research.google.com/assets/colab-badge.svg\" alt=\"Open In Colab\"/></a>"
      ]
    },
    {
      "cell_type": "code",
      "execution_count": null,
      "metadata": {
        "id": "1eQ8XyAFiLPZ"
      },
      "outputs": [],
      "source": []
    },
    {
      "cell_type": "code",
      "source": [
        "import datetime\n",
        "from astropy.time import Time\n",
        "from astropy.coordinates import get_sun, AltAz, solar_system_ephemeris, EarthLocation\n",
        "from astropy.coordinates import get_body\n",
        "import astropy.units as u\n",
        "\n",
        "class TimeConverter:\n",
        "    def __init__(self, earth_date, earth_time):\n",
        "        self.earth_date = earth_date\n",
        "        self.earth_time = earth_time\n",
        "\n",
        "        # Constants based on Earth and Mars day lengths\n",
        "        self.earth_day_seconds = 24 * 60 * 60  # seconds in an Earth day\n",
        "        self.mars_day_seconds = 24.6597 * 60 * 60  # seconds in a Mars day\n",
        "\n",
        "    def convert_to_mars_time(self):\n",
        "        # Extract Earth time components\n",
        "        earth_hours, earth_minutes, earth_seconds = self.earth_time\n",
        "\n",
        "        # Convert Earth date and time to total seconds since the beginning of epoch (for simplicity)\n",
        "        earth_total_seconds = (self.earth_date - datetime.datetime(1609, 3, 12)).total_seconds() \\\n",
        "                              + earth_hours * 3600 + earth_minutes * 60 + earth_seconds\n",
        "\n",
        "        # Calculate Mars time in sols (Martian days)\n",
        "        mars_sols = earth_total_seconds / self.mars_day_seconds\n",
        "\n",
        "        # Calculate Mars time in years\n",
        "        mars_years = mars_sols / 669.6\n",
        "\n",
        "        # Convert remaining seconds to Martian time\n",
        "        mars_seconds = earth_total_seconds % self.mars_day_seconds\n",
        "        mars_hours = mars_seconds // 3600\n",
        "        mars_seconds %= 3600\n",
        "        mars_minutes = mars_seconds // 60\n",
        "        mars_seconds %= 60\n",
        "\n",
        "        return mars_years, mars_sols, int(mars_hours), int(mars_minutes), int(mars_seconds)\n",
        "\n",
        "    def get_sun_position_on_mars(self, mars_location):\n",
        "        # Create a Time object for the given Earth date and time\n",
        "        time = Time(self.earth_date + datetime.timedelta(hours=self.earth_time[0], minutes=self.earth_time[1], seconds=self.earth_time[2]))\n",
        "\n",
        "        # Use the solar system ephemeris to calculate the Sun's position\n",
        "        with solar_system_ephemeris.set('builtin'):\n",
        "            mars = get_body('mars', time)\n",
        "            sun = get_sun(time)\n",
        "\n",
        "        # Transform Sun's position to the local AltAz frame on Mars\n",
        "        altaz = AltAz(obstime=time, location=mars_location)\n",
        "        sun_altaz = sun.transform_to(altaz)\n",
        "\n",
        "        return sun_altaz.alt, sun_altaz.az\n",
        "\n",
        "# Example usage\n",
        "earth_date = datetime.datetime(2024, 5, 25)  # Year, Month, Day\n",
        "earth_time = (1, 30, 45)  # Hours, Minutes, Seconds\n",
        "mars_location = EarthLocation(lat=4.5*u.deg, lon=137.4*u.deg, height=0*u.m)  # Latitude, Longitude, Elevation on Mars (e.g., Hellas Time)\n",
        "\n",
        "converter = TimeConverter(earth_date, earth_time)\n",
        "mars_years, mars_sols, mars_hours, mars_minutes, mars_seconds = converter.convert_to_mars_time()\n",
        "sun_alt, sun_az = converter.get_sun_position_on_mars(mars_location)\n",
        "\n",
        "print(f\"Earth date and time: {earth_date.strftime('%Y-%m-%d %H:%M:%S')}\")\n",
        "print(f\"Mars time: {int(mars_years)} years, {int(mars_sols)} sols, {mars_hours} hours, {mars_minutes} minutes, {mars_seconds} seconds\")\n",
        "print(f\"Sun's position on Mars at the given time: Altitude = {sun_alt:.2f}, Azimuth = {sun_az:.2f}\")\n"
      ],
      "metadata": {
        "colab": {
          "base_uri": "https://localhost:8080/"
        },
        "id": "Czzpv3XGi5__",
        "outputId": "3a414b6b-a7fb-43cc-8406-b7f2308a7b41"
      },
      "execution_count": 6,
      "outputs": [
        {
          "output_type": "stream",
          "name": "stdout",
          "text": [
            "Earth date and time: 2024-05-25 00:00:00\n",
            "Mars time: 220 years, 147593 sols, 2 hours, 24 minutes, 37 seconds\n",
            "Sun's position on Mars at the given time: Altitude = 65.13 deg, Azimuth = 46.73 deg\n"
          ]
        }
      ]
    },
    {
      "cell_type": "code",
      "source": [],
      "metadata": {
        "id": "E_IUC6z6iMHP"
      },
      "execution_count": null,
      "outputs": []
    }
  ]
}